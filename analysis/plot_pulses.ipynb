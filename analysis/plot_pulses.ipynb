{
 "cells": [
  {
   "cell_type": "code",
   "execution_count": null,
   "metadata": {},
   "outputs": [],
   "source": [
    "import numpy as np\n",
    "import matplotlib.pyplot as plt\n",
    "import h5py\n",
    "%matplotlib inline\n",
    "\n",
    "f = h5py.File(\"../examples/Power/TDSE.h5\",\"r\")\n",
    "pulses = f[\"Pulse\"]\n",
    "time = pulses[\"time\"][:]\n",
    "for i in range(f[\"Parameters\"][\"num_pulses\"][0]):\n",
    "    plt.plot(time,pulses[\"Pulse_envelope_\"+str(i)][:])    \n",
    "    plt.plot(time,-1*pulses[\"Pulse_envelope_\"+str(i)][:])\n",
    "\n",
    "    plt.plot(time,pulses[\"Pulse_value_\"+str(i)][:], label=i)\n",
    "plt.plot(time,pulses[\"a_field\"][:], label=\"a_field\")\n",
    "\n",
    "plt.legend()\n",
    "    "
   ]
  },
  {
   "cell_type": "code",
   "execution_count": null,
   "metadata": {},
   "outputs": [],
   "source": [
    "start = 25000\n",
    "plt.plot(time[start:],pulses[\"Pulse_value_\"+\"0\"][start:]-pulses[\"Pulse_value_\"+\"1\"][start:], label=i)"
   ]
  },
  {
   "cell_type": "code",
   "execution_count": null,
   "metadata": {},
   "outputs": [],
   "source": [
    "plt.plot(f[\"Wavefunction\"][\"x_value_0\"][:],f[\"Wavefunction\"][\"psi_1\"][:].real, label=\"psi_1\")\n",
    "plt.plot(f[\"Wavefunction\"][\"x_value_0\"][:],f[\"Wavefunction\"][\"psi_2\"][:].real, label=\"psi_2\")\n",
    "plt.legend()"
   ]
  },
  {
   "cell_type": "code",
   "execution_count": null,
   "metadata": {},
   "outputs": [],
   "source": [
    "# psi_time = f[\"Wavefunction\"][\"psi\"]\n",
    "x_value = f[\"Wavefunction\"][\"x_value_0\"][:]\n",
    "plt.plot(f[\"Wavefunction\"][\"x_value_0\"][:],f[\"Wavefunction\"][\"psi_2_gobbler\"][:].real, label=\"gob_1\")\n",
    "plt.axvline(f[\"Wavefunction\"][\"x_value_0\"][-1]*.9)\n",
    "plt.axvline(-1*f[\"Wavefunction\"][\"x_value_0\"][-1]*.9)\n",
    "plt.axvline(f[\"Wavefunction\"][\"x_value_0\"][-1])\n",
    "plt.axvline(-1*f[\"Wavefunction\"][\"x_value_0\"][-1])\n",
    "plt.ylim([0,1.2])\n",
    "plt.show()\n",
    "\n",
    "plt.plot(f[\"Wavefunction\"][\"x_value_0\"][:],f[\"Wavefunction\"][\"psi_2_gobbler\"][:].real, label=\"gob_1\")\n",
    "plt.axvline(f[\"Wavefunction\"][\"x_value_0\"][-1]*.9)\n",
    "plt.axvline(-1*f[\"Wavefunction\"][\"x_value_0\"][-1]*.9)\n",
    "plt.axvline(f[\"Wavefunction\"][\"x_value_0\"][-1])\n",
    "plt.axvline(-1*f[\"Wavefunction\"][\"x_value_0\"][-1])\n",
    "plt.ylim([0,1.2])\n",
    "plt.show()\n",
    "\n",
    "gob = f[\"Wavefunction\"][\"psi_gobbler\"][:]\n",
    "dim_int = int(np.sqrt(float(gob.shape[0])))\n",
    "gob = np.reshape(gob, (dim_int, dim_int))\n",
    "print gob.shape\n",
    "plt.imshow(gob.real, cmap='viridis', vmin=0.0, vmax=1.0, \n",
    "    origin='lower', extent=[x_value[0],x_value[-1],x_value[0],x_value[-1]])\n",
    "plt.xlim((x_value[-1]*.85,x_value[-1]))\n",
    "plt.ylim((x_value[-1]*.85,x_value[-1]))\n",
    "\n",
    "plt.show()\n",
    "# max_val = np.max(np.abs(psi_time[0,:].real))\n",
    "# for psi in psi_time:\n",
    "#     print type(psi)\n",
    "#     dim_int = int(np.sqrt(float(psi.shape[0])))\n",
    "#     psi = np.reshape(psi, (dim_int, dim_int))\n",
    "#     print np.max(psi.real)\n",
    "#     plt.imshow(psi.real, cmap='bwr', vmin=-1*max_val, vmax=max_val, \n",
    "#                origin='lower', extent=[x_value[0],x_value[-1],x_value[0],x_value[-1]])\n",
    "#     plt.colorbar()\n",
    "#     plt.title(\"slkdjf\")\n",
    "#     plt.show()"
   ]
  },
  {
   "cell_type": "code",
   "execution_count": null,
   "metadata": {},
   "outputs": [],
   "source": [
    "import numpy as np\n",
    "import matplotlib.pyplot as plt\n",
    "import h5py\n",
    "%matplotlib inline\n",
    "\n",
    "f = h5py.File(\"../examples/basic/He.h5\",\"r\")[\"States\"][:,:]\n",
    "for psi in f:\n",
    "    psi = psi[:]\n",
    "    psi = np.reshape(psi, (np.sqrt(float(psi.shape[0])), np.sqrt(float(psi.shape[0]))))\n",
    "    print np.max(psi.real)\n",
    "    plt.imshow(np.abs(psi.real))\n",
    "    plt.show()\n"
   ]
  },
  {
   "cell_type": "code",
   "execution_count": null,
   "metadata": {},
   "outputs": [],
   "source": []
  }
 ],
 "metadata": {
  "kernelspec": {
   "display_name": "Python 2",
   "language": "python",
   "name": "python2"
  },
  "language_info": {
   "codemirror_mode": {
    "name": "ipython",
    "version": 2
   },
   "file_extension": ".py",
   "mimetype": "text/x-python",
   "name": "python",
   "nbconvert_exporter": "python",
   "pygments_lexer": "ipython2"
  }
 },
 "nbformat": 4,
 "nbformat_minor": 0
}
