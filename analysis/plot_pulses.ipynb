{
 "cells": [
  {
   "cell_type": "code",
   "execution_count": null,
   "metadata": {},
   "outputs": [],
   "source": [
    "import numpy as np\n",
    "import matplotlib.pyplot as plt\n",
    "import h5py\n",
    "%matplotlib inline\n",
    "\n",
    "f = h5py.File(\"../examples/Power2/TDSE.h5\",\"r\")\n",
    "pulses = f[\"Pulse\"]\n",
    "time = pulses[\"time\"][:]\n",
    "for i in range(f[\"Parameters\"][\"num_pulses\"][0]):\n",
    "    plt.plot(time,pulses[\"Pulse_envelope_\"+str(i)][:])    \n",
    "    plt.plot(time,-1*pulses[\"Pulse_envelope_\"+str(i)][:])\n",
    "\n",
    "    plt.plot(time,pulses[\"Pulse_value_\"+str(i)][:], label=i)\n",
    "plt.plot(time,pulses[\"a_field\"][:], label=\"a_field\")\n",
    "\n",
    "plt.legend()\n",
    "    "
   ]
  },
  {
   "cell_type": "code",
   "execution_count": null,
   "metadata": {},
   "outputs": [],
   "source": [
    "start = 25000\n",
    "plt.plot(time[start:],pulses[\"Pulse_value_\"+\"0\"][start:]-pulses[\"Pulse_value_\"+\"1\"][start:], label=i)"
   ]
  },
  {
   "cell_type": "code",
   "execution_count": null,
   "metadata": {},
   "outputs": [],
   "source": [
    "plt.plot(f[\"Wavefunction\"][\"x_value_0\"][:],f[\"Wavefunction\"][\"psi_1\"][:].real, label=\"psi_1\")\n",
    "plt.plot(f[\"Wavefunction\"][\"x_value_0\"][:],f[\"Wavefunction\"][\"psi_2\"][:].real, label=\"psi_2\")\n",
    "plt.legend()"
   ]
  },
  {
   "cell_type": "code",
   "execution_count": null,
   "metadata": {},
   "outputs": [],
   "source": [
    "psi_time = f[\"Wavefunction\"][\"psi\"][:,:]\n",
    "for psi in psi_time:\n",
    "    dim_int = int(np.sqrt(float(psi.shape[0])))\n",
    "    psi = np.reshape(psi, (dim_int, dim_int))\n",
    "    print np.max(psi.real)\n",
    "    x_value = f[\"Wavefunction\"][\"x_value_0\"][:]\n",
    "    extent = [x_value[0], x_value[-1], x_value[-1], x_value[0]]\n",
    "    plt.imshow(psi.real, extent=extent)\n",
    "    plt.show()\n",
    "psi = psi_time[-1] - psi_time[-2]\n",
    "dim_int = int(np.sqrt(float(psi.shape[0])))\n",
    "psi = np.reshape(psi, (dim_int, dim_int))\n",
    "print \"This one!\"\n",
    "print np.max(psi.real)\n",
    "print np.min(psi.real)\n",
    "x_value = f[\"Wavefunction\"][\"x_value_0\"][:]\n",
    "extent = [x_value[0], x_value[-1], x_value[-1], x_value[0]]\n",
    "plt.imshow(psi.real, extent=extent)\n",
    "plt.show()\n",
    "psi = psi_time[-1] - psi_time[-3]\n",
    "psi = np.reshape(psi, (np.sqrt(float(psi.shape[0])), np.sqrt(float(psi.shape[0]))))\n",
    "print \"This one!\"\n",
    "print np.max(psi.real)\n",
    "print np.min(psi.real)\n",
    "x_value = f[\"Wavefunction\"][\"x_value_0\"][:]\n",
    "extent = [x_value[0], x_value[-1], x_value[-1], x_value[0]]\n",
    "plt.imshow(psi.real, extent=extent)\n",
    "plt.show()"
   ]
  },
  {
   "cell_type": "code",
   "execution_count": null,
   "metadata": {},
   "outputs": [],
   "source": [
    "import numpy as np\n",
    "import matplotlib.pyplot as plt\n",
    "import h5py\n",
    "%matplotlib inline\n",
    "\n",
    "f = h5py.File(\"../examples/basic/He.h5\",\"r\")[\"States\"][:,:]\n",
    "for psi in f:\n",
    "    psi = psi[:]\n",
    "    psi = np.reshape(psi, (np.sqrt(float(psi.shape[0])), np.sqrt(float(psi.shape[0]))))\n",
    "    print np.max(psi.real)\n",
    "    plt.imshow(np.abs(psi.real))\n",
    "    plt.show()\n"
   ]
  },
  {
   "cell_type": "code",
   "execution_count": null,
   "metadata": {},
   "outputs": [],
   "source": []
  }
 ],
 "metadata": {
  "kernelspec": {
   "display_name": "Python 2",
   "language": "python",
   "name": "python2"
  },
  "language_info": {
   "codemirror_mode": {
    "name": "ipython",
    "version": 2
   },
   "file_extension": ".py",
   "mimetype": "text/x-python",
   "name": "python",
   "nbconvert_exporter": "python",
   "pygments_lexer": "ipython2"
  }
 },
 "nbformat": 4,
 "nbformat_minor": 0
}
