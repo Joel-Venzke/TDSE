{
 "cells": [
  {
   "cell_type": "code",
   "execution_count": null,
   "metadata": {},
   "outputs": [],
   "source": [
    "import numpy as np\n",
    "import matplotlib.pyplot as plt\n",
    "import h5py\n",
    "%matplotlib inline\n",
    "\n",
    "f = h5py.File(\"../examples/basic/TDSE.h5\",\"r\")\n",
    "pulses = f[\"Pulse\"]\n",
    "time = pulses[\"time\"][:]\n",
    "for i in range(f[\"Parameters\"][\"num_pulses\"][0]):\n",
    "    plt.plot(time,pulses[\"Pulse_envelope_\"+str(i)][:])    \n",
    "    plt.plot(time,-1*pulses[\"Pulse_envelope_\"+str(i)][:])\n",
    "\n",
    "    plt.plot(time,pulses[\"Pulse_value_\"+str(i)][:], label=i)\n",
    "plt.plot(time,pulses[\"a_field\"][:], label=\"a_field\")\n",
    "\n",
    "plt.legend()\n",
    "    "
   ]
  },
  {
   "cell_type": "code",
   "execution_count": null,
   "metadata": {},
   "outputs": [],
   "source": [
    "start = 25000\n",
    "plt.plot(time[start:],pulses[\"Pulse_value_\"+\"0\"][start:]-pulses[\"Pulse_value_\"+\"1\"][start:], label=i)"
   ]
  },
  {
   "cell_type": "code",
   "execution_count": null,
   "metadata": {},
   "outputs": [],
   "source": []
  }
 ],
 "metadata": {
  "kernelspec": {
   "display_name": "Python [Root]",
   "language": "python",
   "name": "Python [Root]"
  },
  "language_info": {
   "codemirror_mode": {
    "name": "ipython",
    "version": 3
   },
   "file_extension": ".py",
   "mimetype": "text/x-python",
   "name": "python",
   "nbconvert_exporter": "python",
   "pygments_lexer": "ipython3"
  }
 },
 "nbformat": 4,
 "nbformat_minor": 0
}
